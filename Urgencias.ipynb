{
  "nbformat": 4,
  "nbformat_minor": 0,
  "metadata": {
    "colab": {
      "provenance": [],
      "authorship_tag": "ABX9TyNAbpum/TQ/2iJnj7pvbEx7",
      "include_colab_link": true
    },
    "kernelspec": {
      "name": "python3",
      "display_name": "Python 3"
    },
    "language_info": {
      "name": "python"
    }
  },
  "cells": [
    {
      "cell_type": "markdown",
      "metadata": {
        "id": "view-in-github",
        "colab_type": "text"
      },
      "source": [
        "<a href=\"https://colab.research.google.com/github/jagalazdiaz/planets/blob/main/Urgencias.ipynb\" target=\"_parent\"><img src=\"https://colab.research.google.com/assets/colab-badge.svg\" alt=\"Open In Colab\"/></a>"
      ]
    },
    {
      "cell_type": "markdown",
      "source": [
        "# **ATENCIÓN: Código generado con chat GPT.**"
      ],
      "metadata": {
        "id": "WBLVKpupOV2h"
      }
    },
    {
      "cell_type": "code",
      "source": [
        "import requests\n",
        "import zipfile\n",
        "import pandas as pd\n",
        "import matplotlib.pyplot as plt\n",
        "\n",
        "# URL del archivo zip\n",
        "url = 'http://www.dgis.salud.gob.mx/descargas/datosabiertos/urgencias/Urgencias_2022.zip'\n",
        "\n",
        "# Descargar el archivo zip\n",
        "response = requests.get(url)\n",
        "if response.status_code == 200:\n",
        "    # Guardar el archivo zip\n",
        "    with open('Urgencias_2022.zip', 'wb') as f:\n",
        "        f.write(response.content)\n",
        "    print(\"Archivo zip descargado.\")\n",
        "\n",
        "    # Extraer el archivo URGENCIAS.txt del zip\n",
        "    with zipfile.ZipFile('Urgencias_2022.zip', 'r') as zip_ref:\n",
        "        zip_ref.extract('URGENCIAS.txt')\n",
        "    print(\"Archivo URGENCIAS.txt extraído.\")\n",
        "\n",
        "    # Cargar el archivo URGENCIAS.txt en un DataFrame\n",
        "    df = pd.read_csv('URGENCIAS.txt', delimiter='|', encoding='latin1')\n",
        "\n",
        "    # Mostrar las primeras filas del DataFrame\n",
        "    print(df.head())\n",
        "\n",
        "    # Graficar datos del DataFrame\n",
        "    # Por ejemplo, un histograma de una columna\n",
        "    plt.hist(df['EDAD'], bins=20, color='skyblue', edgecolor='black')\n",
        "    plt.xlabel('Edad')\n",
        "    plt.ylabel('Frecuencia')\n",
        "    plt.title('Distribución de Edades en URGENCIAS 2022')\n",
        "    plt.grid(True)\n",
        "    plt.show()\n",
        "else:\n",
        "    print(\"Error al descargar el archivo zip.\")\n"
      ],
      "metadata": {
        "colab": {
          "base_uri": "https://localhost:8080/",
          "height": 1000
        },
        "id": "Woyf_rMiNP-d",
        "outputId": "ef46af92-632c-4375-b7f7-c5c0507f1235"
      },
      "execution_count": 42,
      "outputs": [
        {
          "output_type": "stream",
          "name": "stdout",
          "text": [
            "Archivo zip descargado.\n",
            "Archivo URGENCIAS.txt extraído.\n"
          ]
        },
        {
          "output_type": "stream",
          "name": "stderr",
          "text": [
            "<ipython-input-42-5e3edebbe4aa>:23: DtypeWarning: Columns (8) have mixed types. Specify dtype option on import or set low_memory=False.\n",
            "  df = pd.read_csv('URGENCIAS.txt', delimiter='|', encoding='latin1')\n"
          ]
        },
        {
          "output_type": "stream",
          "name": "stdout",
          "text": [
            "   ï»¿ID        CLUES   fechaalta  EDAD  CVEEDAD  SEXO  ENTRESIDENCIA  \\\n",
            "0      1  TSSSA003732  2022-10-25     7        5     1             28   \n",
            "1      2  ZSSSA013172  2022-11-08    22        5     2              0   \n",
            "2      3  ZSSSA001016  2022-11-05    10        4     2             32   \n",
            "3      4  ZSSSA000695  2022-10-26    17        5     1             32   \n",
            "4      5  ZSSSA000572  2022-11-02    18        5     2             32   \n",
            "\n",
            "   MUNRESIDENCIA DERHAB  TIPOURGENCIA  ...  MP  AFECPRIN  IRA  PLANEDA  \\\n",
            "0             22     11             2  ...   8      A099    8        8   \n",
            "1            999      0             1  ...   8      R101    8        8   \n",
            "2             36      0             1  ...   8      J029    2        8   \n",
            "3             22      0             2  ...   8      S602    8        8   \n",
            "4             19     11             2  ...   8      Z349    8        8   \n",
            "\n",
            "  SOBRESEDA  fechaingreso HORASESTANCIA  MES_ESTADISTICO hora_ingreso  \\\n",
            "0       NaN    2022-10-25        000:13               10        13:37   \n",
            "1       NaN    2022-11-07        012:40               11        19:40   \n",
            "2       NaN    2022-11-05        000:15               11        15:15   \n",
            "3       NaN    2022-10-26        000:54               10        10:30   \n",
            "4       NaN    2022-11-02        000:29               11        06:41   \n",
            "\n",
            "  hora_alta  \n",
            "0     13:50  \n",
            "1     08:20  \n",
            "2     15:30  \n",
            "3     11:24  \n",
            "4     07:10  \n",
            "\n",
            "[5 rows x 23 columns]\n"
          ]
        },
        {
          "output_type": "display_data",
          "data": {
            "text/plain": [
              "<Figure size 640x480 with 1 Axes>"
            ],
            "image/png": "[encoded data removed]"
          },
          "metadata": {}
        }
      ]
    }
  ]
}