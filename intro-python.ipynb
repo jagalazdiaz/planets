{
  "cells": [
    {
      "cell_type": "markdown",
      "metadata": {
        "id": "GGDsgadg3Yqq"
      },
      "source": [
        "<a href=\"https://colab.research.google.com/github/mcd-unison/material-programacion/blob/main/intro-python.ipynb\" target=\"_parent\"><img src=\"https://colab.research.google.com/assets/colab-badge.svg\" alt=\"Open In Colab\"/></a>"
      ]
    },
    {
      "cell_type": "markdown",
      "metadata": {
        "id": "3309dNxx3Yqz"
      },
      "source": [
        "<center>\n",
        "<p><img src=\"https://mcd.unison.mx/wp-content/themes/awaken/img/logo_mcd.png\" width=\"100\">\n",
        "</p>\n",
        "\n",
        "\n",
        "\n",
        "# Curso Propedéutico en *Programación*\n",
        "\n",
        "## Introducción a `python` resolviendo preguntas\n",
        "\n",
        "\n",
        "**Julio Waissman Vilanova**\n",
        "\n"
      ]
    },
    {
      "cell_type": "markdown",
      "metadata": {
        "id": "tOZXlvMb3Yq3"
      },
      "source": [
        "### Tipos\n",
        "\n",
        "¿Cuales son los tipos de datos básicos? Revisa los tipos siguientes:\n",
        "\n",
        "1. Tipos numéricos `int`, `float`, `complex`\n",
        "2. Cadenas de caracteres\n",
        "3. Tuplas\n",
        "4. Listas\n",
        "5. Diccionarios\n",
        "6. Conjuntos\n",
        "\n",
        "Da ejemplo de sobrecarga de operadores (en particular `+` y `*`)\n",
        "\n"
      ]
    },
    {
      "cell_type": "code",
      "execution_count": null,
      "metadata": {
        "id": "zk2T0QZy3Yq5"
      },
      "outputs": [],
      "source": []
    },
    {
      "cell_type": "markdown",
      "metadata": {
        "id": "Ljjj2SSI3Yq6"
      },
      "source": [
        "¿Que significa que unos tipos sean *mutables* y otros *inmutables*?\n",
        "\n",
        "Realiza un pequeño programa donde quede claro lo que significa que un tipo de datos sea mutable, e ilustra el uso del método `copy.deepcopy()`."
      ]
    },
    {
      "cell_type": "code",
      "execution_count": null,
      "metadata": {
        "id": "F7z57PU73Yq7"
      },
      "outputs": [],
      "source": []
    },
    {
      "cell_type": "markdown",
      "metadata": {
        "id": "SGmpg2av3Yq8"
      },
      "source": [
        "### *Comprehension* de listas, conjuntos y diccionarios\n",
        "\n",
        "Escribe, en una sola linea, una expresión que genere una lista con todos los números enteros que se encuentran entre $1$ y $n$\n",
        "que sean divisibles por $3$ y $7$ y que el dígito menos significativo del número sea $6$."
      ]
    },
    {
      "cell_type": "code",
      "execution_count": 6,
      "metadata": {
        "id": "_YEgv8ud3Yq-",
        "outputId": "26331293-4e3a-429c-93fc-596965cad8db",
        "colab": {
          "base_uri": "https://localhost:8080/"
        }
      },
      "outputs": [
        {
          "output_type": "stream",
          "name": "stdout",
          "text": [
            "[126, 336, 546, 756, 966, 1176, 1386, 1596, 1806, 2016, 2226, 2436, 2646, 2856, 3066, 3276, 3486, 3696, 3906, 4116, 4326, 4536, 4746, 4956, 5166, 5376, 5586, 5796, 6006, 6216, 6426, 6636, 6846, 7056, 7266, 7476, 7686, 7896, 8106, 8316, 8526, 8736, 8946, 9156, 9366, 9576, 9786, 9996]\n"
          ]
        }
      ],
      "source": [
        "n = 10_000\n",
        "\n",
        "# Escribe aqui el *one linner*\n",
        "numeros = [num for num in range(1, 10001) if num % 3 == 0 and num % 7 == 0 and num % 10 == 6]\n",
        "print(numeros)\n",
        "\n",
        "# Codigo generado con Chatgpt - mi nivel de python es muy básico.\n"
      ]
    },
    {
      "cell_type": "markdown",
      "metadata": {
        "id": "2DeD4c_b3YrC"
      },
      "source": [
        "### Funciones\n",
        "\n",
        "Escribe una función que:\n",
        "\n",
        "1. reciba una lista de elementos (letras, números, lo que sea),\n",
        "2. cuente la ocurrencia de cada elemento en la lista,\n",
        "3. devuelva las ocurrencias en forma de diccionario,\n",
        "4. si imprime es True, imprima un histograma de ocurrencias, por ejemplo:\n",
        "\n",
        "```python\n",
        "\n",
        "lista = [1,'a',1, 13, 'hola', 'a', 1, 1, 'a', 1]\n",
        "\n",
        "d = funcion_ejemplo(lista, imprime = True)\n",
        "\n",
        "1    \t\t***** \t(5 -> 50%)\n",
        "'a'  \t\t***   \t(3 -> 30%)\n",
        "13\t\t*\t(1 -> 10%)\n",
        "'hola'\t\t*\t(1 -> 10%)\n",
        "\n",
        "```"
      ]
    },
    {
      "cell_type": "code",
      "execution_count": 19,
      "metadata": {
        "id": "mQoXc2tV3YrD"
      },
      "outputs": [],
      "source": [
        "# Escribe la función aquí\n",
        "def contar_ocurrencias(lista, imprimir=False):\n",
        "    ocurrencias = {}\n",
        "    total_elementos = len(lista)\n",
        "\n",
        "    for elemento in lista:\n",
        "        ocurrencias[elemento] = ocurrencias.get(elemento, 0) + 1\n",
        "\n",
        "    if imprimir:\n",
        "        print(\"Histograma de ocurrencias:\")\n",
        "        for elemento, cantidad in ocurrencias.items():\n",
        "            porcentaje = (cantidad / total_elementos) * 100\n",
        "            print(f\"{elemento} {'*' * cantidad} ({cantidad} -> {porcentaje:.0f}%)\")\n",
        "\n",
        "  # Codigo generado con Chatgpt - mi nivel de python es muy básico.\n",
        "\n",
        "\n",
        "\n"
      ]
    },
    {
      "cell_type": "code",
      "execution_count": 20,
      "metadata": {
        "id": "E2MG_ona3YrE",
        "outputId": "64a55215-4319-4f46-fc55-65d21c102393",
        "colab": {
          "base_uri": "https://localhost:8080/"
        }
      },
      "outputs": [
        {
          "output_type": "stream",
          "name": "stdout",
          "text": [
            "Histograma de ocurrencias:\n",
            "1 ***** (5 -> 50%)\n",
            "a *** (3 -> 30%)\n",
            "13 * (1 -> 10%)\n",
            "hola * (1 -> 10%)\n",
            "None\n"
          ]
        }
      ],
      "source": [
        "# Realiza pruebas aquí\n",
        "mi_lista = [1, 'a', 1, 13, 'hola', 'a', 1, 1, 'a', 1]\n",
        "ocurrencias = contar_ocurrencias(mi_lista, imprimir=True)\n",
        "print(ocurrencias)"
      ]
    },
    {
      "cell_type": "markdown",
      "metadata": {
        "id": "xXAdG3ky3YrF"
      },
      "source": [
        "Escribe una función que modifique un diccionario y regrese el diccionario modificado y una copia del original, donde cada entrada\n",
        "del diccionario sea una lista de valores. Ten en cuenta que si una entrada del diccionario es de tipo mutable, al modificarlo en la\n",
        "copia se modifica el original. Utiliza el modulo `copy` para evitar este problema. Ejemplo de la función:\n",
        "\n",
        "```python\n",
        "dic1 = {'Pepe':[12, 'enero', 1980], 'Carolina':[15,'mayo',1975],'Paco':[10,'nov',1970]}\n",
        "dic2 = fundicos(dic1, 'Pepe', 1, 'febrero')\n",
        "\n",
        "print(dic1)\n",
        "{'Pepe':[12, 'enero', 1980], 'Carolina':[15,'mayo',1975],'Paco':[10,'nov',1970]}\n",
        "\n",
        "print(dic2)\n",
        "{'Pepe':[12, 'febrero', 1980], 'Carolina':[15,'mayo',1975],'Paco':[10,'nov',1970]}\n",
        "```"
      ]
    },
    {
      "cell_type": "code",
      "execution_count": 21,
      "metadata": {
        "id": "V8G0ZBka3YrG"
      },
      "outputs": [],
      "source": [
        "# Escribe la función fundicos aquí\n",
        "import copy\n",
        "\n",
        "def fundicos(diccionario, clave, indice, nuevo_valor):\n",
        "    diccionario_copia = copy.deepcopy(diccionario)\n",
        "\n",
        "    if clave in diccionario_copia:\n",
        "        lista_valores = diccionario_copia[clave]\n",
        "        if indice < len(lista_valores):\n",
        "            lista_valores[indice] = nuevo_valor\n",
        "\n",
        "    return diccionario_copia, diccionario\n",
        "\n",
        "# Codigo generado con Chatgpt - mi nivel de python es muy básico.\n"
      ]
    },
    {
      "cell_type": "code",
      "execution_count": 22,
      "metadata": {
        "id": "5K_9ql2W3YrH",
        "outputId": "45599f1b-2c1a-4107-c0b1-1eaa58acfeab",
        "colab": {
          "base_uri": "https://localhost:8080/"
        }
      },
      "outputs": [
        {
          "output_type": "stream",
          "name": "stdout",
          "text": [
            "{'Pepe': [12, 'enero', 1980], 'Carolina': [15, 'mayo', 1975], 'Paco': [10, 'nov', 1970]}\n",
            "({'Pepe': [12, 'febrero', 1980], 'Carolina': [15, 'mayo', 1975], 'Paco': [10, 'nov', 1970]}, {'Pepe': [12, 'enero', 1980], 'Carolina': [15, 'mayo', 1975], 'Paco': [10, 'nov', 1970]})\n"
          ]
        }
      ],
      "source": [
        "# Realiza pruebas de fundicos aquí\n",
        "dic1 = {'Pepe':[12, 'enero', 1980], 'Carolina':[15,'mayo',1975],'Paco':[10,'nov',1970]}\n",
        "dic2 = fundicos(dic1, 'Pepe', 1, 'febrero')\n",
        "\n",
        "print(dic1)\n",
        "print(dic2)"
      ]
    },
    {
      "cell_type": "markdown",
      "metadata": {
        "id": "YWquUfIz3YrH"
      },
      "source": [
        "### Generadores\n",
        "\n",
        "Escribe un generador que reciba una lista y genere todas las permutaciones que se puedan hacer con los elementos de la lista"
      ]
    },
    {
      "cell_type": "code",
      "execution_count": 37,
      "metadata": {
        "id": "ucZd6dng3YrI",
        "outputId": "b1c445ca-0bf3-4896-924e-9e3b1290237a",
        "colab": {
          "base_uri": "https://localhost:8080/"
        }
      },
      "outputs": [
        {
          "output_type": "stream",
          "name": "stdout",
          "text": [
            "['a', 'b', 'c', 'd']\n",
            "['a', 'b', 'd', 'c']\n",
            "['a', 'c', 'b', 'd']\n",
            "['a', 'c', 'd', 'b']\n",
            "['a', 'd', 'b', 'c']\n",
            "['a', 'd', 'c', 'b']\n",
            "['b', 'a', 'c', 'd']\n",
            "['b', 'a', 'd', 'c']\n",
            "['b', 'c', 'a', 'd']\n",
            "['b', 'c', 'd', 'a']\n",
            "['b', 'd', 'a', 'c']\n",
            "['b', 'd', 'c', 'a']\n",
            "['c', 'a', 'b', 'd']\n",
            "['c', 'a', 'd', 'b']\n",
            "['c', 'b', 'a', 'd']\n",
            "['c', 'b', 'd', 'a']\n",
            "['c', 'd', 'a', 'b']\n",
            "['c', 'd', 'b', 'a']\n",
            "['d', 'a', 'b', 'c']\n",
            "['d', 'a', 'c', 'b']\n",
            "['d', 'b', 'a', 'c']\n",
            "['d', 'b', 'c', 'a']\n",
            "['d', 'c', 'a', 'b']\n",
            "['d', 'c', 'b', 'a']\n"
          ]
        }
      ],
      "source": [
        "# Escribe aqui fun1\n",
        "from itertools import permutations\n",
        "\n",
        "def generar_permutaciones(lista):\n",
        "    for perm in permutations(lista):\n",
        "        yield list(perm)\n",
        "\n",
        "# Ejemplo de uso:\n",
        "mi_lista = ['a', 'b', 'c', 'd']\n",
        "generador_permutaciones = generar_permutaciones(mi_lista)\n",
        "\n",
        "for p in generador_permutaciones:\n",
        "    print(p)\n",
        "\n",
        "# Codigo generado con Chatgpt - mi nivel de python es muy básico.\n",
        "\n",
        "\n",
        "\n",
        "    #TODO: Implementar la función"
      ]
    },
    {
      "cell_type": "markdown",
      "metadata": {
        "id": "X74HmKKO3YrJ"
      },
      "source": [
        "Ahora escribe una funcipn que reciba 4 digitos del 0 al 9, y devuelva una lista con todas las horas váidas que se puedan hacer con estos dígitos en forma de lista de strings con la forma `\"HH:MM\"`."
      ]
    },
    {
      "cell_type": "code",
      "execution_count": 43,
      "metadata": {
        "id": "59hDEbZh3YrK"
      },
      "outputs": [],
      "source": [
        "def horas_validas(d1, d2, d3, d4):\n",
        "    \"\"\"\n",
        "    En esta función, horas_validas recibe cuatro dígitos del 0 al 9 como argumentos.\n",
        "    Luego, genera todas las combinaciones posibles de horas y minutos\n",
        "    con estos dígitos y verifica si son horas y minutos válidos\n",
        "    (menores a 24 y 60 respectivamente).\n",
        "    Las horas válidas se agregan a la lista horas, que se devuelve al final.\n",
        "\n",
        "    \"\"\"\n",
        "\n",
        "    horas = []\n",
        "    digitos = [str(d1), str(d2), str(d3), str(d4)]\n",
        "\n",
        "    for h1 in digitos:\n",
        "        for h2 in digitos:\n",
        "            hora = h1 + h2\n",
        "            if int(hora) < 24:\n",
        "                for m1 in digitos:\n",
        "                    for m2 in digitos:\n",
        "                        minuto = m1 + m2\n",
        "                        if int(minuto) < 60:\n",
        "                            horas.append(f\"{hora.zfill(2)}:{minuto.zfill(2)}\")\n",
        "\n",
        "    return horas\n",
        "\n",
        "\n",
        "\n",
        "    #TODO: Implementar la función\n",
        "\n",
        " # Codigo generado con Chatgpt - mi nivel de python es muy básico.\n",
        ""
      ]
    },
    {
      "cell_type": "markdown",
      "metadata": {
        "id": "i0K4iHfa3YrK"
      },
      "source": [
        "Validando:"
      ]
    },
    {
      "cell_type": "code",
      "execution_count": 42,
      "metadata": {
        "id": "eJMSlOQZ3YrK",
        "outputId": "1806c553-3edb-4ebc-e8f0-291854eab907",
        "colab": {
          "base_uri": "https://localhost:8080/"
        }
      },
      "outputs": [
        {
          "output_type": "stream",
          "name": "stdout",
          "text": [
            "['11:11', '11:12', '11:13', '11:14', '11:21', '11:22', '11:23', '11:24', '11:31', '11:32', '11:33', '11:34', '11:41', '11:42', '11:43', '11:44', '12:11', '12:12', '12:13', '12:14', '12:21', '12:22', '12:23', '12:24', '12:31', '12:32', '12:33', '12:34', '12:41', '12:42', '12:43', '12:44', '13:11', '13:12', '13:13', '13:14', '13:21', '13:22', '13:23', '13:24', '13:31', '13:32', '13:33', '13:34', '13:41', '13:42', '13:43', '13:44', '14:11', '14:12', '14:13', '14:14', '14:21', '14:22', '14:23', '14:24', '14:31', '14:32', '14:33', '14:34', '14:41', '14:42', '14:43', '14:44', '21:11', '21:12', '21:13', '21:14', '21:21', '21:22', '21:23', '21:24', '21:31', '21:32', '21:33', '21:34', '21:41', '21:42', '21:43', '21:44', '22:11', '22:12', '22:13', '22:14', '22:21', '22:22', '22:23', '22:24', '22:31', '22:32', '22:33', '22:34', '22:41', '22:42', '22:43', '22:44', '23:11', '23:12', '23:13', '23:14', '23:21', '23:22', '23:23', '23:24', '23:31', '23:32', '23:33', '23:34', '23:41', '23:42', '23:43', '23:44']\n"
          ]
        }
      ],
      "source": [
        "horas_posibles = horas_validas(1, 2, 3, 4)\n",
        "print(horas_posibles)"
      ]
    },
    {
      "cell_type": "markdown",
      "metadata": {
        "id": "MVnvYT-N3YrL"
      },
      "source": [
        "Escribe una función, lo más compacta posible, que escoja entre los 3 patrones ascii a continuación, e imprima en pantalla\n",
        "el deseado, pero de dimensión $n$ ($n \\ge 4$), toma en cuanta que para algunos valores de $n$ habrá\n",
        "algún(os) patrones que no se puedan hacer.\n",
        "\n",
        "```\n",
        "          *             ++++           oooooooo\n",
        "          **            ++++           ooo  ooo\n",
        "          ***           ++++           oo    oo\n",
        "          ****          ++++           o      o\n",
        "          *****             ++++       o      o\n",
        "          ******            ++++       oo    oo\n",
        "          *******           ++++       ooo  ooo\n",
        "          ********          ++++       oooooooo\n",
        "\n",
        "```"
      ]
    },
    {
      "cell_type": "code",
      "execution_count": 48,
      "metadata": {
        "id": "20XA4lXj3YrL"
      },
      "outputs": [],
      "source": [
        "# Escribe aquí la función\n",
        "def imprimir_patron(n):\n",
        "    if n >= 4:\n",
        "        for i in range(1, n+1):\n",
        "            print('*' * i + ' ' * (n-i) + '    ' + '+' * (n-i) + '    ' + 'o' * (n-i))\n",
        "    else:\n",
        "        print(\"El valor de 'n' debe ser mayor o igual a 4.\")\n",
        "\n",
        "\n",
        "\n",
        " # Codigo generado con Chatgpt - mi nivel de python es muy básico.\n",
        "\n",
        "\n",
        "\n"
      ]
    },
    {
      "cell_type": "code",
      "execution_count": 47,
      "metadata": {
        "id": "rdxlRO4J3YrM",
        "outputId": "5a02a162-c4b0-4a5a-f89b-5c601e3af0f2",
        "colab": {
          "base_uri": "https://localhost:8080/"
        }
      },
      "outputs": [
        {
          "output_type": "stream",
          "name": "stdout",
          "text": [
            "*           +++++++    ooooooo\n",
            "**          ++++++    oooooo\n",
            "***         +++++    ooooo\n",
            "****        ++++    oooo\n",
            "*****       +++    ooo\n",
            "******      ++    oo\n",
            "*******     +    o\n",
            "********        \n"
          ]
        }
      ],
      "source": [
        "#Realiza pruebas aquí\n",
        "imprimir_patron(8)"
      ]
    },
    {
      "cell_type": "markdown",
      "metadata": {
        "id": "odn-cBVj3YrM"
      },
      "source": [
        "### Clases y objetos\n",
        "\n",
        "Diseña una clase Matriz con las siguientes características:\n",
        "\n",
        "1. Como inicialización de un objeto es necesario conocer $n$, $m$ y tipo. En caso de no proporcionar $m$ la matriz se asume cuadrada de $n \\times n$. En caso de no proporcionar $n$ la matriz tendrá una dimensión de $1 \\times 1$.\n",
        "2. De no especificarse todos los elementos se inicializan a 0, a menos que exista un tipo especial ( `unos` o `diag` por el momento).\n",
        "3. Implementa con sobrecarga la suma de matrices, la multiplicación de matrices y la multiplicación por un escalar.\n",
        "4. Implementa como métodos eliminar columna y eliminar fila.   \n",
        "5. Programa la representación visual de la matriz.\n",
        "6. Ten en cuenta tambien el manejo de errores.\n",
        "\n",
        "\n",
        "Ejemplo de uso:\n",
        "\n",
        "```\n",
        ">>> A = Matriz(n=3, m=4)\n",
        "\n",
        ">>> print(A)\n",
        "0 0 0 0\n",
        "0 0 0 0\n",
        "0 0 0 0\n",
        "\n",
        ">>> A = A.quitafila(2)\n",
        "\n",
        ">>> print(A)\n",
        "0 0 0 0\n",
        "0 0 0 0\n",
        "\n",
        ">>> B = Matriz(4,4,'diag')\n",
        "\n",
        ">>> print(B)\n",
        "1 0 0 0\n",
        "0 1 0 0\n",
        "0 0 1 0\n",
        "0 0 0 1\n",
        "\n",
        ">>> C = Matriz(4,1,'unos')\n",
        "\n",
        ">>> print(C)\n",
        "1\n",
        "1\n",
        "1\n",
        "1\n",
        "\n",
        ">>> D = 3 * B * C\n",
        "\n",
        ">>> print(D)\n",
        "3\n",
        "3\n",
        "3\n",
        "3\n",
        "\n",
        ">>> E = 3 * B + C\n",
        "error \"No seas menso, si no son de la misma dimensión las matrices no se pueden sumar\"\n",
        "```"
      ]
    },
    {
      "cell_type": "code",
      "execution_count": 51,
      "metadata": {
        "id": "eaWLQ2dl3YrN",
        "outputId": "331d645f-ab0e-4476-dda2-74d3bccecac5",
        "colab": {
          "base_uri": "https://localhost:8080/",
          "height": 436
        }
      },
      "outputs": [
        {
          "output_type": "stream",
          "name": "stdout",
          "text": [
            "0 0 0 0\n",
            "0 0 0 0\n",
            "0 0 0 0\n",
            "0 0 0 0\n",
            "0 0 0 0\n",
            "1 0 0 0\n",
            "0 1 0 0\n",
            "0 0 1 0\n",
            "0 0 0 1\n",
            "1\n",
            "1\n",
            "1\n",
            "1\n"
          ]
        },
        {
          "output_type": "error",
          "ename": "TypeError",
          "evalue": "unsupported operand type(s) for *: 'int' and 'Matriz'",
          "traceback": [
            "\u001b[0;31m---------------------------------------------------------------------------\u001b[0m",
            "\u001b[0;31mTypeError\u001b[0m                                 Traceback (most recent call last)",
            "\u001b[0;32m<ipython-input-51-69ac89f89969>\u001b[0m in \u001b[0;36m<cell line: 67>\u001b[0;34m()\u001b[0m\n\u001b[1;32m     65\u001b[0m \u001b[0mprint\u001b[0m\u001b[0;34m(\u001b[0m\u001b[0mC\u001b[0m\u001b[0;34m)\u001b[0m\u001b[0;34m\u001b[0m\u001b[0;34m\u001b[0m\u001b[0m\n\u001b[1;32m     66\u001b[0m \u001b[0;34m\u001b[0m\u001b[0m\n\u001b[0;32m---> 67\u001b[0;31m \u001b[0mD\u001b[0m \u001b[0;34m=\u001b[0m \u001b[0;36m3\u001b[0m \u001b[0;34m*\u001b[0m \u001b[0mB\u001b[0m \u001b[0;34m*\u001b[0m \u001b[0mC\u001b[0m\u001b[0;34m\u001b[0m\u001b[0;34m\u001b[0m\u001b[0m\n\u001b[0m\u001b[1;32m     68\u001b[0m \u001b[0mprint\u001b[0m\u001b[0;34m(\u001b[0m\u001b[0mD\u001b[0m\u001b[0;34m)\u001b[0m\u001b[0;34m\u001b[0m\u001b[0;34m\u001b[0m\u001b[0m\n\u001b[1;32m     69\u001b[0m \u001b[0;34m\u001b[0m\u001b[0m\n",
            "\u001b[0;31mTypeError\u001b[0m: unsupported operand type(s) for *: 'int' and 'Matriz'"
          ]
        }
      ],
      "source": [
        "# Desarrolla aqui la clase\n",
        "class Matriz:\n",
        "    def __init__(self, n=1, m=None, tipo=None):\n",
        "        if m is None:\n",
        "            m = n\n",
        "        self.n = n\n",
        "        self.m = m\n",
        "        self.tipo = tipo\n",
        "        if tipo == 'unos':\n",
        "            self.matriz = [[1]*m for _ in range(n)]\n",
        "        elif tipo == 'diag':\n",
        "            self.matriz = [[1 if i == j else 0 for j in range(m)] for i in range(n)]\n",
        "        else:\n",
        "            self.matriz = [[0]*m for _ in range(n)]\n",
        "\n",
        "    def __str__(self):\n",
        "        return '\\n'.join([' '.join(map(str, fila)) for fila in self.matriz])\n",
        "\n",
        "    def __add__(self, other):\n",
        "        if self.n != other.n or self.m != other.m:\n",
        "            raise ValueError(\"No seas menso, si no son de la misma dimensión las matrices no se pueden sumar\")\n",
        "        result = Matriz(self.n, self.m)\n",
        "        result.matriz = [[self.matriz[i][j] + other.matriz[i][j] for j in range(self.m)] for i in range(self.n)]\n",
        "        return result\n",
        "\n",
        "    def __mul__(self, other):\n",
        "        if isinstance(other, int):\n",
        "            result = Matriz(self.n, self.m)\n",
        "            result.matriz = [[self.matriz[i][j] * other for j in range(self.m)] for i in range(self.n)]\n",
        "            return result\n",
        "        elif isinstance(other, Matriz):\n",
        "            if self.m != other.n:\n",
        "                raise ValueError(\"La multiplicación de matrices requiere que el número de columnas de la primera matriz sea igual al número de filas de la segunda matriz\")\n",
        "            result = Matriz(self.n, other.m)\n",
        "            result.matriz = [[sum(self.matriz[i][k] * other.matriz[k][j] for k in range(self.m)) for j in range(other.m)] for i in range(self.n)]\n",
        "            return result\n",
        "        else:\n",
        "            raise TypeError(\"La multiplicación solo está definida para enteros y matrices\")\n",
        "\n",
        "    def quitafila(self, indice):\n",
        "        if not 0 <= indice < self.n:\n",
        "            raise IndexError(\"El índice de fila está fuera de rango\")\n",
        "        result = Matriz(self.n-1, self.m)\n",
        "        result.matriz = [fila for i, fila in enumerate(self.matriz) if i != indice]\n",
        "        return result\n",
        "\n",
        "    def quitacolumna(self, indice):\n",
        "        if not 0 <= indice < self.m:\n",
        "            raise IndexError(\"El índice de columna está fuera de rango\")\n",
        "        result = Matriz(self.n, self.m-1)\n",
        "        result.matriz = [[fila[j] for j in range(self.m) if j != indice] for fila in self.matriz]\n",
        "        return result\n",
        "\n",
        "# Ejemplo de uso\n",
        "A = Matriz(n=3, m=4)\n",
        "print(A)\n",
        "\n",
        "A = A.quitafila(2)\n",
        "print(A)\n",
        "\n",
        "B = Matriz(4, 4, 'diag')\n",
        "print(B)\n",
        "\n",
        "C = Matriz(4, 1, 'unos')\n",
        "print(C)\n",
        "\n",
        "D = 3 * B * C\n",
        "print(D)\n",
        "\n",
        "E = 3 * B + C  # Esto lanzará un error\n",
        "\n",
        "\n",
        "\n",
        "\n"
      ]
    },
    {
      "cell_type": "code",
      "execution_count": 50,
      "metadata": {
        "id": "L1Ku-jPD3YrN",
        "outputId": "2a91af0b-d89f-4830-bf68-157646ab508c",
        "colab": {
          "base_uri": "https://localhost:8080/",
          "height": 436
        }
      },
      "outputs": [
        {
          "output_type": "stream",
          "name": "stdout",
          "text": [
            "A = 0 0 0 0\n",
            "0 0 0 0\n",
            "0 0 0 0\n",
            "A =  0 0 0 0\n",
            "0 0 0 0\n",
            "B =  1 0 0 0\n",
            "0 1 0 0\n",
            "0 0 1 0\n",
            "0 0 0 1\n",
            "C = 1\n",
            "1\n",
            "1\n",
            "1\n"
          ]
        },
        {
          "output_type": "error",
          "ename": "TypeError",
          "evalue": "unsupported operand type(s) for *: 'int' and 'Matriz'",
          "traceback": [
            "\u001b[0;31m---------------------------------------------------------------------------\u001b[0m",
            "\u001b[0;31mTypeError\u001b[0m                                 Traceback (most recent call last)",
            "\u001b[0;32m<ipython-input-50-8e6d3444aee0>\u001b[0m in \u001b[0;36m<cell line: 15>\u001b[0;34m()\u001b[0m\n\u001b[1;32m     13\u001b[0m \u001b[0mprint\u001b[0m\u001b[0;34m(\u001b[0m\u001b[0;34m'C ='\u001b[0m\u001b[0;34m,\u001b[0m \u001b[0mC\u001b[0m\u001b[0;34m)\u001b[0m\u001b[0;34m\u001b[0m\u001b[0;34m\u001b[0m\u001b[0m\n\u001b[1;32m     14\u001b[0m \u001b[0;34m\u001b[0m\u001b[0m\n\u001b[0;32m---> 15\u001b[0;31m \u001b[0mD\u001b[0m \u001b[0;34m=\u001b[0m \u001b[0;36m3\u001b[0m \u001b[0;34m*\u001b[0m \u001b[0mB\u001b[0m \u001b[0;34m*\u001b[0m \u001b[0mC\u001b[0m\u001b[0;34m\u001b[0m\u001b[0;34m\u001b[0m\u001b[0m\n\u001b[0m\u001b[1;32m     16\u001b[0m \u001b[0mprint\u001b[0m\u001b[0;34m(\u001b[0m\u001b[0;34m'D = '\u001b[0m\u001b[0;34m,\u001b[0m \u001b[0mD\u001b[0m\u001b[0;34m)\u001b[0m\u001b[0;34m\u001b[0m\u001b[0;34m\u001b[0m\u001b[0m\n\u001b[1;32m     17\u001b[0m \u001b[0;34m\u001b[0m\u001b[0m\n",
            "\u001b[0;31mTypeError\u001b[0m: unsupported operand type(s) for *: 'int' and 'Matriz'"
          ]
        }
      ],
      "source": [
        "# Realiza las pruebas a la clase aquí\n",
        "\n",
        "A = Matriz(n=3, m=4)\n",
        "print('A =', A)\n",
        "\n",
        "A = A.quitafila(2)\n",
        "print('A = ', A)\n",
        "\n",
        "B = Matriz(4,4,'diag')\n",
        "print('B = ', B)\n",
        "\n",
        "C = Matriz(4,1,'unos')\n",
        "print('C =', C)\n",
        "\n",
        "D = 3 * B * C\n",
        "print('D = ', D)\n",
        "\n",
        "E = 3 * B + C\n",
        "print('E = ', E)"
      ]
    }
  ],
  "metadata": {
    "kernelspec": {
      "display_name": "ing-caract",
      "language": "python",
      "name": "python3"
    },
    "language_info": {
      "codemirror_mode": {
        "name": "ipython",
        "version": 3
      },
      "file_extension": ".py",
      "mimetype": "text/x-python",
      "name": "python",
      "nbconvert_exporter": "python",
      "pygments_lexer": "ipython3",
      "version": "3.8.13"
    },
    "orig_nbformat": 4,
    "colab": {
      "provenance": []
    }
  },
  "nbformat": 4,
  "nbformat_minor": 0
}